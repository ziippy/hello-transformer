{
 "cells": [
  {
   "cell_type": "markdown",
   "id": "91bf0dd0",
   "metadata": {},
   "source": [
    "### RevNet 연산 검증"
   ]
  },
  {
   "cell_type": "code",
   "execution_count": 1,
   "id": "59135ceb",
   "metadata": {},
   "outputs": [],
   "source": [
    "import torch\n",
    "import numpy as np\n",
    "import time\n",
    "from torch import nn"
   ]
  },
  {
   "cell_type": "code",
   "execution_count": 2,
   "id": "11e23539",
   "metadata": {},
   "outputs": [],
   "source": [
    "x1 = torch.rand((3, 3))\n",
    "x2 = torch.rand((3, 3))"
   ]
  },
  {
   "cell_type": "code",
   "execution_count": 3,
   "id": "0c67c51d",
   "metadata": {},
   "outputs": [
    {
     "data": {
      "text/plain": [
       "(tensor([[0.0436, 0.2922, 0.3363],\n",
       "         [0.9921, 0.0649, 0.4308],\n",
       "         [0.4252, 0.5185, 0.7432]]),\n",
       " tensor([[0.0520, 0.4300, 0.3192],\n",
       "         [0.1293, 0.6289, 0.0639],\n",
       "         [0.4274, 0.7762, 0.7109]]))"
      ]
     },
     "execution_count": 3,
     "metadata": {},
     "output_type": "execute_result"
    }
   ],
   "source": [
    "x1, x2"
   ]
  },
  {
   "cell_type": "code",
   "execution_count": 4,
   "id": "d604f698",
   "metadata": {},
   "outputs": [],
   "source": [
    "# 편의상 f와 g를 모두 Linear 함수로 정의함.\n",
    "f = nn.Linear(3, 3)\n",
    "g = nn.Linear(3, 3)"
   ]
  },
  {
   "cell_type": "code",
   "execution_count": 5,
   "id": "eb6e2ac5",
   "metadata": {},
   "outputs": [],
   "source": [
    "y1 = x1 + f(x2)\n",
    "y2 = x2 + g(y1)"
   ]
  },
  {
   "cell_type": "code",
   "execution_count": 6,
   "id": "9f049449",
   "metadata": {},
   "outputs": [
    {
     "data": {
      "text/plain": [
       "(tensor([[ 0.2103,  0.6087, -0.1216],\n",
       "         [ 1.2446,  0.2857,  0.1223],\n",
       "         [ 0.4025,  0.8605,  0.4191]], grad_fn=<AddBackward0>),\n",
       " tensor([[-0.1389,  0.3948,  0.4288],\n",
       "         [ 0.4352,  0.9487, -0.2886],\n",
       "         [ 0.5939,  0.4911,  0.9132]], grad_fn=<AddBackward0>))"
      ]
     },
     "execution_count": 6,
     "metadata": {},
     "output_type": "execute_result"
    }
   ],
   "source": [
    "y1, y2"
   ]
  },
  {
   "cell_type": "code",
   "execution_count": 7,
   "id": "6b25f341",
   "metadata": {},
   "outputs": [],
   "source": [
    "r2 = y2 - g(y1)\n",
    "r1 = y1 - f(r2)"
   ]
  },
  {
   "cell_type": "code",
   "execution_count": 8,
   "id": "ae3242d1",
   "metadata": {},
   "outputs": [
    {
     "data": {
      "text/plain": [
       "(tensor([[0.0436, 0.2922, 0.3363],\n",
       "         [0.9921, 0.0649, 0.4308],\n",
       "         [0.4252, 0.5185, 0.7432]], grad_fn=<SubBackward0>),\n",
       " tensor([[0.0520, 0.4300, 0.3192],\n",
       "         [0.1293, 0.6289, 0.0639],\n",
       "         [0.4274, 0.7762, 0.7109]], grad_fn=<SubBackward0>))"
      ]
     },
     "execution_count": 8,
     "metadata": {},
     "output_type": "execute_result"
    }
   ],
   "source": [
    "r1, r2"
   ]
  },
  {
   "cell_type": "markdown",
   "id": "5ac7648d",
   "metadata": {},
   "source": [
    "y1 과 y2 만을 가지고 r1 과 r2 를 만들었는데,\n",
    "그 값이 x1 과 x2 와 일치한다."
   ]
  },
  {
   "cell_type": "markdown",
   "id": "3ae6e311",
   "metadata": {},
   "source": [
    "### 리포머 모델 실행 속도 측정"
   ]
  },
  {
   "cell_type": "code",
   "execution_count": 13,
   "id": "90be166f",
   "metadata": {},
   "outputs": [],
   "source": [
    "from transformers import ReformerModelWithLMHead\n",
    "from transformers import ReformerModel"
   ]
  },
  {
   "cell_type": "code",
   "execution_count": 14,
   "id": "a63f0142",
   "metadata": {},
   "outputs": [
    {
     "data": {
      "application/vnd.jupyter.widget-view+json": {
       "model_id": "1b0a1013f6f440a2958008254ef916e5",
       "version_major": 2,
       "version_minor": 0
      },
      "text/plain": [
       "Downloading config.json:   0%|          | 0.00/1.25k [00:00<?, ?B/s]"
      ]
     },
     "metadata": {},
     "output_type": "display_data"
    },
    {
     "data": {
      "application/vnd.jupyter.widget-view+json": {
       "model_id": "e905f99edf77483887b9b679fda5ae18",
       "version_major": 2,
       "version_minor": 0
      },
      "text/plain": [
       "Downloading pytorch_model.bin:   0%|          | 0.00/569M [00:00<?, ?B/s]"
      ]
     },
     "metadata": {},
     "output_type": "display_data"
    },
    {
     "name": "stderr",
     "output_type": "stream",
     "text": [
      "Some weights of the model checkpoint at google/reformer-enwik8 were not used when initializing ReformerModel: ['lm_head.bias', 'lm_head.decoder.bias', 'lm_head.decoder.weight']\n",
      "- This IS expected if you are initializing ReformerModel from the checkpoint of a model trained on another task or with another architecture (e.g. initializing a BertForSequenceClassification model from a BertForPreTraining model).\n",
      "- This IS NOT expected if you are initializing ReformerModel from the checkpoint of a model that you expect to be exactly identical (initializing a BertForSequenceClassification model from a BertForSequenceClassification model).\n"
     ]
    }
   ],
   "source": [
    "model = ReformerModel.from_pretrained(\"google/reformer-enwik8\")"
   ]
  },
  {
   "cell_type": "code",
   "execution_count": 10,
   "id": "5f66207c",
   "metadata": {},
   "outputs": [],
   "source": [
    "def make_random_inputs(batch_size, sequence_length):\n",
    "    x = np.random.randint(0, 258, (batch_size, sequence_length))\n",
    "    inputs = torch.from_numpy(x)\n",
    "    return inputs"
   ]
  },
  {
   "cell_type": "code",
   "execution_count": 12,
   "id": "e798c184",
   "metadata": {},
   "outputs": [],
   "source": [
    "batch_size = 32\n",
    "sequence_length = 64"
   ]
  },
  {
   "cell_type": "code",
   "execution_count": 15,
   "id": "378f147d",
   "metadata": {},
   "outputs": [
    {
     "name": "stdout",
     "output_type": "stream",
     "text": [
      "2.11 seconds for input size of(32,64)\n",
      "2.24 seconds for input size of(16,128)\n",
      "2.85 seconds for input size of(8,256)\n",
      "4.70 seconds for input size of(4,512)\n",
      "4.45 seconds for input size of(2,1024)\n",
      "4.42 seconds for input size of(1,2048)\n"
     ]
    }
   ],
   "source": [
    "for _ in range(6):\n",
    "    inputs = make_random_inputs(batch_size, sequence_length)\n",
    "    \n",
    "    start = time.time()\n",
    "    o = model(inputs)\n",
    "    end = time.time()\n",
    "    \n",
    "    print(f'{end-start:.2f} seconds for input size of({batch_size},{sequence_length})')\n",
    "    \n",
    "    batch_size = batch_size // 2\n",
    "    sequence_length = sequence_length * 2"
   ]
  },
  {
   "cell_type": "markdown",
   "id": "624ac601",
   "metadata": {},
   "source": [
    "기존의 O(L^2) 시간 복잡도를 가진 어텐션이라면\n",
    "배치 사이즈가 1/2 로 줄어든다고 하더라도 시퀀스 길이가 늘어나면 시간은 제곱으로 늘어야 하지만\n",
    "시퀀스 길이가 증가할 때마다 상대적으로 조금씩 실행 속도가 증가한다는 것을 알 수 있다."
   ]
  },
  {
   "cell_type": "code",
   "execution_count": null,
   "id": "e86d4232",
   "metadata": {},
   "outputs": [],
   "source": []
  }
 ],
 "metadata": {
  "kernelspec": {
   "display_name": "Python 3 (ipykernel)",
   "language": "python",
   "name": "python3"
  },
  "language_info": {
   "codemirror_mode": {
    "name": "ipython",
    "version": 3
   },
   "file_extension": ".py",
   "mimetype": "text/x-python",
   "name": "python",
   "nbconvert_exporter": "python",
   "pygments_lexer": "ipython3",
   "version": "3.8.10"
  }
 },
 "nbformat": 4,
 "nbformat_minor": 5
}
