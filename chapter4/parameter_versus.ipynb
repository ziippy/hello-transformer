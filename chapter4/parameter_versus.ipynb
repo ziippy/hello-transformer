{
 "cells": [
  {
   "cell_type": "markdown",
   "id": "e8f1a619",
   "metadata": {},
   "source": [
    "### ALBERT 와 BERT 의 임베딩 파라미터 수 비교"
   ]
  },
  {
   "cell_type": "code",
   "execution_count": 2,
   "id": "77c3bbec",
   "metadata": {},
   "outputs": [],
   "source": [
    "from transformers import BertModel, AlbertModel"
   ]
  },
  {
   "cell_type": "code",
   "execution_count": 3,
   "id": "a411b188",
   "metadata": {},
   "outputs": [
    {
     "name": "stderr",
     "output_type": "stream",
     "text": [
      "Some weights of the model checkpoint at bert-base-uncased were not used when initializing BertModel: ['cls.predictions.bias', 'cls.predictions.decoder.weight', 'cls.seq_relationship.weight', 'cls.seq_relationship.bias', 'cls.predictions.transform.dense.weight', 'cls.predictions.transform.LayerNorm.bias', 'cls.predictions.transform.LayerNorm.weight', 'cls.predictions.transform.dense.bias']\n",
      "- This IS expected if you are initializing BertModel from the checkpoint of a model trained on another task or with another architecture (e.g. initializing a BertForSequenceClassification model from a BertForPreTraining model).\n",
      "- This IS NOT expected if you are initializing BertModel from the checkpoint of a model that you expect to be exactly identical (initializing a BertForSequenceClassification model from a BertForSequenceClassification model).\n"
     ]
    },
    {
     "data": {
      "application/vnd.jupyter.widget-view+json": {
       "model_id": "c2ae4020d59245debbe4e82ce083712d",
       "version_major": 2,
       "version_minor": 0
      },
      "text/plain": [
       "Downloading config.json:   0%|          | 0.00/684 [00:00<?, ?B/s]"
      ]
     },
     "metadata": {},
     "output_type": "display_data"
    },
    {
     "data": {
      "application/vnd.jupyter.widget-view+json": {
       "model_id": "df6fd993506b470b9cb44e8fd5b63a6e",
       "version_major": 2,
       "version_minor": 0
      },
      "text/plain": [
       "Downloading pytorch_model.bin:   0%|          | 0.00/45.2M [00:00<?, ?B/s]"
      ]
     },
     "metadata": {},
     "output_type": "display_data"
    },
    {
     "name": "stderr",
     "output_type": "stream",
     "text": [
      "Some weights of the model checkpoint at albert-base-v2 were not used when initializing AlbertModel: ['predictions.LayerNorm.bias', 'predictions.bias', 'predictions.LayerNorm.weight', 'predictions.dense.weight', 'predictions.decoder.weight', 'predictions.decoder.bias', 'predictions.dense.bias']\n",
      "- This IS expected if you are initializing AlbertModel from the checkpoint of a model trained on another task or with another architecture (e.g. initializing a BertForSequenceClassification model from a BertForPreTraining model).\n",
      "- This IS NOT expected if you are initializing AlbertModel from the checkpoint of a model that you expect to be exactly identical (initializing a BertForSequenceClassification model from a BertForSequenceClassification model).\n"
     ]
    }
   ],
   "source": [
    "bert = BertModel.from_pretrained(\"bert-base-uncased\")\n",
    "albert = AlbertModel.from_pretrained(\"albert-base-v2\")"
   ]
  },
  {
   "cell_type": "code",
   "execution_count": 4,
   "id": "b260f6f2",
   "metadata": {},
   "outputs": [],
   "source": [
    "def num_model_param(m):\n",
    "    return sum(mi.numel() for mi in m.parameters())"
   ]
  },
  {
   "cell_type": "code",
   "execution_count": 6,
   "id": "460d37d9",
   "metadata": {},
   "outputs": [
    {
     "name": "stdout",
     "output_type": "stream",
     "text": [
      "number of BERT Embedding Parameters: 23837184\n"
     ]
    }
   ],
   "source": [
    "bert_embedding = num_model_param(bert.embeddings)\n",
    "print('number of BERT Embedding Parameters: {}'.format(bert_embedding))"
   ]
  },
  {
   "cell_type": "code",
   "execution_count": 7,
   "id": "226264d9",
   "metadata": {},
   "outputs": [
    {
     "name": "stdout",
     "output_type": "stream",
     "text": [
      "number of ALBERT Embedding Parameters: 4005120\n"
     ]
    }
   ],
   "source": [
    "albert_embedding = num_model_param(albert.embeddings) + num_model_param(albert.encoder.embedding_hidden_mapping_in)\n",
    "print('number of ALBERT Embedding Parameters: {}'.format(albert_embedding))"
   ]
  },
  {
   "cell_type": "code",
   "execution_count": 9,
   "id": "f5ac5074",
   "metadata": {},
   "outputs": [
    {
     "data": {
      "text/plain": [
       "16.801984663960308"
      ]
     },
     "execution_count": 9,
     "metadata": {},
     "output_type": "execute_result"
    }
   ],
   "source": [
    "100 * (albert_embedding / bert_embedding)"
   ]
  },
  {
   "cell_type": "markdown",
   "id": "808c69fa",
   "metadata": {},
   "source": [
    "### ALBERT 와 BERT 의 인코더 파라미터 수 비교"
   ]
  },
  {
   "cell_type": "code",
   "execution_count": 10,
   "id": "ffdb6cad",
   "metadata": {},
   "outputs": [
    {
     "name": "stdout",
     "output_type": "stream",
     "text": [
      "number of BERT Encoder Parameters: 85054464\n"
     ]
    }
   ],
   "source": [
    "bert_encoder = num_model_param(bert.encoder)\n",
    "print('number of BERT Encoder Parameters: {}'.format(bert_encoder))"
   ]
  },
  {
   "cell_type": "code",
   "execution_count": 11,
   "id": "a2b84acd",
   "metadata": {},
   "outputs": [
    {
     "name": "stdout",
     "output_type": "stream",
     "text": [
      "number of ALBERT Encoder Parameters: 7186944\n"
     ]
    }
   ],
   "source": [
    "albert_encoder = num_model_param(albert.encoder)\n",
    "print('number of ALBERT Encoder Parameters: {}'.format(albert_encoder))"
   ]
  },
  {
   "cell_type": "code",
   "execution_count": 12,
   "id": "0a1343c1",
   "metadata": {},
   "outputs": [
    {
     "data": {
      "text/plain": [
       "8.44981399212627"
      ]
     },
     "execution_count": 12,
     "metadata": {},
     "output_type": "execute_result"
    }
   ],
   "source": [
    "100 * (albert_encoder / bert_encoder)"
   ]
  },
  {
   "cell_type": "code",
   "execution_count": null,
   "id": "3c437965",
   "metadata": {},
   "outputs": [],
   "source": []
  }
 ],
 "metadata": {
  "kernelspec": {
   "display_name": "Python 3 (ipykernel)",
   "language": "python",
   "name": "python3"
  },
  "language_info": {
   "codemirror_mode": {
    "name": "ipython",
    "version": 3
   },
   "file_extension": ".py",
   "mimetype": "text/x-python",
   "name": "python",
   "nbconvert_exporter": "python",
   "pygments_lexer": "ipython3",
   "version": "3.8.10"
  }
 },
 "nbformat": 4,
 "nbformat_minor": 5
}
