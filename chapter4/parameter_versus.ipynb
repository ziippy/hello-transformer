{
 "cells": [
  {
   "cell_type": "markdown",
   "id": "dbcde643",
   "metadata": {},
   "source": [
    "### ALBERT 와 BERT 의 임베딩 파라미터 수 비교"
   ]
  },
  {
   "cell_type": "code",
   "execution_count": 1,
   "id": "afdcc6b6",
   "metadata": {},
   "outputs": [],
   "source": [
    "from transformers import BertModel, AlbertModel"
   ]
  },
  {
   "cell_type": "code",
   "execution_count": 2,
   "id": "3f1dbfa2",
   "metadata": {},
   "outputs": [
    {
     "name": "stderr",
     "output_type": "stream",
     "text": [
      "Some weights of the model checkpoint at bert-base-uncased were not used when initializing BertModel: ['cls.predictions.transform.dense.bias', 'cls.predictions.bias', 'cls.seq_relationship.weight', 'cls.predictions.transform.dense.weight', 'cls.predictions.transform.LayerNorm.weight', 'cls.seq_relationship.bias', 'cls.predictions.transform.LayerNorm.bias', 'cls.predictions.decoder.weight']\n",
      "- This IS expected if you are initializing BertModel from the checkpoint of a model trained on another task or with another architecture (e.g. initializing a BertForSequenceClassification model from a BertForPreTraining model).\n",
      "- This IS NOT expected if you are initializing BertModel from the checkpoint of a model that you expect to be exactly identical (initializing a BertForSequenceClassification model from a BertForSequenceClassification model).\n",
      "Some weights of the model checkpoint at albert-base-v2 were not used when initializing AlbertModel: ['predictions.bias', 'predictions.LayerNorm.bias', 'predictions.dense.weight', 'predictions.decoder.bias', 'predictions.LayerNorm.weight', 'predictions.decoder.weight', 'predictions.dense.bias']\n",
      "- This IS expected if you are initializing AlbertModel from the checkpoint of a model trained on another task or with another architecture (e.g. initializing a BertForSequenceClassification model from a BertForPreTraining model).\n",
      "- This IS NOT expected if you are initializing AlbertModel from the checkpoint of a model that you expect to be exactly identical (initializing a BertForSequenceClassification model from a BertForSequenceClassification model).\n"
     ]
    }
   ],
   "source": [
    "bert = BertModel.from_pretrained(\"bert-base-uncased\")\n",
    "albert = AlbertModel.from_pretrained(\"albert-base-v2\")"
   ]
  },
  {
   "cell_type": "code",
   "execution_count": 3,
   "id": "1948df28",
   "metadata": {},
   "outputs": [],
   "source": [
    "def num_model_param(m):\n",
    "    return sum(mi.numel() for mi in m.parameters())"
   ]
  },
  {
   "cell_type": "code",
   "execution_count": 4,
   "id": "9b8a89b6",
   "metadata": {},
   "outputs": [
    {
     "name": "stdout",
     "output_type": "stream",
     "text": [
      "number of BERT Embedding Parameters: 23837184\n"
     ]
    }
   ],
   "source": [
    "bert_embedding = num_model_param(bert.embeddings)\n",
    "print('number of BERT Embedding Parameters: {}'.format(bert_embedding))"
   ]
  },
  {
   "cell_type": "code",
   "execution_count": 5,
   "id": "67f95e88",
   "metadata": {},
   "outputs": [
    {
     "name": "stdout",
     "output_type": "stream",
     "text": [
      "number of ALBERT Embedding Parameters: 4005120\n"
     ]
    }
   ],
   "source": [
    "albert_embedding = num_model_param(albert.embeddings) + num_model_param(albert.encoder.embedding_hidden_mapping_in)\n",
    "print('number of ALBERT Embedding Parameters: {}'.format(albert_embedding))"
   ]
  },
  {
   "cell_type": "code",
   "execution_count": 6,
   "id": "7ca5c5ff",
   "metadata": {},
   "outputs": [
    {
     "data": {
      "text/plain": [
       "16.801984663960308"
      ]
     },
     "execution_count": 6,
     "metadata": {},
     "output_type": "execute_result"
    }
   ],
   "source": [
    "100 * (albert_embedding / bert_embedding)"
   ]
  },
  {
   "cell_type": "markdown",
   "id": "e724562a",
   "metadata": {},
   "source": [
    "### ALBERT 와 BERT 의 인코더 파라미터 수 비교"
   ]
  },
  {
   "cell_type": "code",
   "execution_count": 7,
   "id": "08aa36b8",
   "metadata": {},
   "outputs": [
    {
     "name": "stdout",
     "output_type": "stream",
     "text": [
      "number of BERT Encoder Parameters: 85054464\n"
     ]
    }
   ],
   "source": [
    "bert_encoder = num_model_param(bert.encoder)\n",
    "print('number of BERT Encoder Parameters: {}'.format(bert_encoder))"
   ]
  },
  {
   "cell_type": "code",
   "execution_count": 8,
   "id": "6b6b09ae",
   "metadata": {},
   "outputs": [
    {
     "name": "stdout",
     "output_type": "stream",
     "text": [
      "number of ALBERT Encoder Parameters: 7186944\n"
     ]
    }
   ],
   "source": [
    "albert_encoder = num_model_param(albert.encoder)\n",
    "print('number of ALBERT Encoder Parameters: {}'.format(albert_encoder))"
   ]
  },
  {
   "cell_type": "code",
   "execution_count": 9,
   "id": "ccc9934e",
   "metadata": {},
   "outputs": [
    {
     "data": {
      "text/plain": [
       "8.44981399212627"
      ]
     },
     "execution_count": 9,
     "metadata": {},
     "output_type": "execute_result"
    }
   ],
   "source": [
    "100 * (albert_encoder / bert_encoder)"
   ]
  },
  {
   "cell_type": "markdown",
   "id": "40a65d5e",
   "metadata": {},
   "source": [
    "### DistilBERT 와 BERT 의 파라미터 수 비교"
   ]
  },
  {
   "cell_type": "code",
   "execution_count": 10,
   "id": "8358dc26",
   "metadata": {},
   "outputs": [],
   "source": [
    "from transformers import BertTokenizer, BertModel\n",
    "tokenizer_bert = BertTokenizer.from_pretrained('bert-base-uncased')"
   ]
  },
  {
   "cell_type": "code",
   "execution_count": 11,
   "id": "213e7b57",
   "metadata": {},
   "outputs": [
    {
     "name": "stderr",
     "output_type": "stream",
     "text": [
      "Some weights of the model checkpoint at bert-base-uncased were not used when initializing BertModel: ['cls.predictions.transform.dense.bias', 'cls.predictions.bias', 'cls.seq_relationship.weight', 'cls.predictions.transform.dense.weight', 'cls.predictions.transform.LayerNorm.weight', 'cls.seq_relationship.bias', 'cls.predictions.transform.LayerNorm.bias', 'cls.predictions.decoder.weight']\n",
      "- This IS expected if you are initializing BertModel from the checkpoint of a model trained on another task or with another architecture (e.g. initializing a BertForSequenceClassification model from a BertForPreTraining model).\n",
      "- This IS NOT expected if you are initializing BertModel from the checkpoint of a model that you expect to be exactly identical (initializing a BertForSequenceClassification model from a BertForSequenceClassification model).\n"
     ]
    }
   ],
   "source": [
    "from transformers import BertModel\n",
    "bert = BertModel.from_pretrained('bert-base-uncased')"
   ]
  },
  {
   "cell_type": "code",
   "execution_count": 12,
   "id": "cb7ab321",
   "metadata": {},
   "outputs": [],
   "source": [
    "import torch\n",
    "import numpy as np\n",
    "input = torch.from_numpy(np.random.randint(0, len(tokenizer_bert.vocab), (1, 512)))"
   ]
  },
  {
   "cell_type": "code",
   "execution_count": null,
   "id": "505521aa",
   "metadata": {},
   "outputs": [],
   "source": [
    "!pip install thop --upgrade "
   ]
  },
  {
   "cell_type": "code",
   "execution_count": 25,
   "id": "6a650adb",
   "metadata": {},
   "outputs": [
    {
     "name": "stderr",
     "output_type": "stream",
     "text": [
      "WARNING:root:no attribute affine\n",
      "WARNING:root:no attribute affine\n",
      "WARNING:root:no attribute affine\n",
      "WARNING:root:no attribute affine\n",
      "WARNING:root:no attribute affine\n",
      "WARNING:root:no attribute affine\n",
      "WARNING:root:no attribute affine\n",
      "WARNING:root:no attribute affine\n"
     ]
    },
    {
     "name": "stdout",
     "output_type": "stream",
     "text": [
      "[INFO] Register count_normalization() for <class 'torch.nn.modules.normalization.LayerNorm'>.\n",
      "[INFO] Register zero_ops() for <class 'torch.nn.modules.dropout.Dropout'>.\n",
      "[INFO] Register count_linear() for <class 'torch.nn.modules.linear.Linear'>.\n"
     ]
    },
    {
     "name": "stderr",
     "output_type": "stream",
     "text": [
      "WARNING:root:no attribute affine\n",
      "WARNING:root:no attribute affine\n",
      "WARNING:root:no attribute affine\n",
      "WARNING:root:no attribute affine\n",
      "WARNING:root:no attribute affine\n",
      "WARNING:root:no attribute affine\n",
      "WARNING:root:no attribute affine\n",
      "WARNING:root:no attribute affine\n",
      "WARNING:root:no attribute affine\n",
      "WARNING:root:no attribute affine\n",
      "WARNING:root:no attribute affine\n",
      "WARNING:root:no attribute affine\n",
      "WARNING:root:no attribute affine\n",
      "WARNING:root:no attribute affine\n",
      "WARNING:root:no attribute affine\n",
      "WARNING:root:no attribute affine\n",
      "WARNING:root:no attribute affine\n"
     ]
    }
   ],
   "source": [
    "from thop import profile\n",
    "macs, params = profile(bert, inputs=(input,))"
   ]
  },
  {
   "cell_type": "code",
   "execution_count": 14,
   "id": "2d6aefe7",
   "metadata": {},
   "outputs": [
    {
     "data": {
      "text/plain": [
       "(43506794496.0, 85646592.0)"
      ]
     },
     "execution_count": 14,
     "metadata": {},
     "output_type": "execute_result"
    }
   ],
   "source": [
    "macs, params"
   ]
  },
  {
   "cell_type": "code",
   "execution_count": null,
   "id": "fb23617f",
   "metadata": {},
   "outputs": [],
   "source": []
  },
  {
   "cell_type": "code",
   "execution_count": 15,
   "id": "2c4076d1",
   "metadata": {},
   "outputs": [],
   "source": [
    "from transformers import DistilBertTokenizer, DistilBertModel"
   ]
  },
  {
   "cell_type": "code",
   "execution_count": 16,
   "id": "ababa91b",
   "metadata": {},
   "outputs": [],
   "source": [
    "tokenizer_distilbert = DistilBertTokenizer.from_pretrained('distilbert-base-uncased')"
   ]
  },
  {
   "cell_type": "code",
   "execution_count": 17,
   "id": "21b74b33",
   "metadata": {},
   "outputs": [
    {
     "name": "stderr",
     "output_type": "stream",
     "text": [
      "Some weights of the model checkpoint at distilbert-base-uncased were not used when initializing DistilBertModel: ['vocab_transform.bias', 'vocab_projector.weight', 'vocab_projector.bias', 'vocab_transform.weight', 'vocab_layer_norm.weight', 'vocab_layer_norm.bias']\n",
      "- This IS expected if you are initializing DistilBertModel from the checkpoint of a model trained on another task or with another architecture (e.g. initializing a BertForSequenceClassification model from a BertForPreTraining model).\n",
      "- This IS NOT expected if you are initializing DistilBertModel from the checkpoint of a model that you expect to be exactly identical (initializing a BertForSequenceClassification model from a BertForSequenceClassification model).\n",
      "Some weights of DistilBertModel were not initialized from the model checkpoint at distilbert-base-uncased and are newly initialized: ['distilbert.transformer.layer.4.ffn.activation.total_ops', 'distilbert.transformer.layer.1.ffn.activation.total_ops', 'distilbert.transformer.layer.2.ffn.activation.total_ops', 'distilbert.transformer.layer.4.ffn.activation.total_params', 'distilbert.transformer.layer.3.ffn.activation.total_params', 'distilbert.transformer.layer.5.ffn.activation.total_ops', 'distilbert.transformer.layer.5.ffn.activation.total_params', 'distilbert.transformer.layer.0.ffn.activation.total_params', 'distilbert.transformer.layer.0.ffn.activation.total_ops', 'distilbert.transformer.layer.3.ffn.activation.total_ops', 'distilbert.transformer.layer.1.ffn.activation.total_params', 'distilbert.transformer.layer.2.ffn.activation.total_params']\n",
      "You should probably TRAIN this model on a down-stream task to be able to use it for predictions and inference.\n"
     ]
    }
   ],
   "source": [
    "distilbert = DistilBertModel.from_pretrained('distilbert-base-uncased')"
   ]
  },
  {
   "cell_type": "code",
   "execution_count": 22,
   "id": "77d99add",
   "metadata": {},
   "outputs": [
    {
     "name": "stderr",
     "output_type": "stream",
     "text": [
      "WARNING:root:no attribute affine\n",
      "WARNING:root:no attribute affine\n",
      "WARNING:root:no attribute affine\n",
      "WARNING:root:no attribute affine\n",
      "WARNING:root:no attribute affine\n",
      "WARNING:root:no attribute affine\n",
      "WARNING:root:no attribute affine\n",
      "WARNING:root:no attribute affine\n",
      "WARNING:root:no attribute affine\n"
     ]
    },
    {
     "name": "stdout",
     "output_type": "stream",
     "text": [
      "[INFO] Register count_normalization() for <class 'torch.nn.modules.normalization.LayerNorm'>.\n",
      "[INFO] Register zero_ops() for <class 'torch.nn.modules.dropout.Dropout'>.\n",
      "[INFO] Register count_linear() for <class 'torch.nn.modules.linear.Linear'>.\n"
     ]
    },
    {
     "name": "stderr",
     "output_type": "stream",
     "text": [
      "WARNING:root:no attribute affine\n",
      "WARNING:root:no attribute affine\n",
      "WARNING:root:no attribute affine\n",
      "WARNING:root:no attribute affine\n"
     ]
    }
   ],
   "source": [
    "from thop import profile\n",
    "distil_macs, distil_params = profile(distilbert, inputs=(input,))"
   ]
  },
  {
   "cell_type": "code",
   "execution_count": 23,
   "id": "8d6969e1",
   "metadata": {},
   "outputs": [
    {
     "data": {
      "text/plain": [
       "(21753495552.0, 42528768.0)"
      ]
     },
     "execution_count": 23,
     "metadata": {},
     "output_type": "execute_result"
    }
   ],
   "source": [
    "distil_macs, distil_params"
   ]
  },
  {
   "cell_type": "code",
   "execution_count": 26,
   "id": "52978192",
   "metadata": {},
   "outputs": [
    {
     "data": {
      "text/plain": [
       "(43506794496.0, 85646592.0)"
      ]
     },
     "execution_count": 26,
     "metadata": {},
     "output_type": "execute_result"
    }
   ],
   "source": [
    "macs, params"
   ]
  },
  {
   "cell_type": "markdown",
   "id": "a68088fe",
   "metadata": {},
   "source": [
    "BERT 의 파라미터 수가 약 2배 더 많다"
   ]
  },
  {
   "cell_type": "markdown",
   "id": "dd105a54",
   "metadata": {},
   "source": [
    "### DistilBERT 와 BERT 의 실행 속도 비교"
   ]
  },
  {
   "cell_type": "code",
   "execution_count": 27,
   "id": "569bb609",
   "metadata": {},
   "outputs": [],
   "source": [
    "input_ids = np.random.randint(0, len(tokenizer_bert), (1, 512))\n",
    "attention_mask = np.ones_like(input_ids)\n",
    "input_ids = torch.from_numpy(input_ids)\n",
    "attention_mask = torch.from_numpy(attention_mask)"
   ]
  },
  {
   "cell_type": "code",
   "execution_count": 28,
   "id": "bca6b59f",
   "metadata": {},
   "outputs": [],
   "source": [
    "inputs = {\n",
    "    'input_ids': input_ids,\n",
    "    'attention_mask': attention_mask,\n",
    "}"
   ]
  },
  {
   "cell_type": "code",
   "execution_count": 29,
   "id": "22e61ec1",
   "metadata": {},
   "outputs": [],
   "source": [
    "def get_latency(model, inputs):\n",
    "    start = time.time()\n",
    "    for _ in tqdm(range(100)):\n",
    "        output = model(**inputs)\n",
    "        #output = bbmodel(**encoded_input)\n",
    "    end = time.time()\n",
    "    #print(f'latency: {(end - start)/100}')\n",
    "    return (end - start) / 100"
   ]
  },
  {
   "cell_type": "code",
   "execution_count": 33,
   "id": "3b26f9f3",
   "metadata": {},
   "outputs": [],
   "source": [
    "import time\n",
    "from tqdm import tqdm"
   ]
  },
  {
   "cell_type": "code",
   "execution_count": 35,
   "id": "053df91d",
   "metadata": {},
   "outputs": [
    {
     "name": "stderr",
     "output_type": "stream",
     "text": [
      "100%|████████████████████████████████████████████████████████████████████████████████| 100/100 [00:50<00:00,  1.99it/s]\n"
     ]
    }
   ],
   "source": [
    "latency_bert = get_latency(bert, inputs)"
   ]
  },
  {
   "cell_type": "code",
   "execution_count": 36,
   "id": "1cabf744",
   "metadata": {},
   "outputs": [
    {
     "name": "stdout",
     "output_type": "stream",
     "text": [
      "BERT latency=0.5031\n"
     ]
    }
   ],
   "source": [
    "print(f'BERT latency={latency_bert:.4f}')"
   ]
  },
  {
   "cell_type": "code",
   "execution_count": 37,
   "id": "591e42b9",
   "metadata": {},
   "outputs": [
    {
     "name": "stderr",
     "output_type": "stream",
     "text": [
      "100%|████████████████████████████████████████████████████████████████████████████████| 100/100 [00:24<00:00,  4.06it/s]"
     ]
    },
    {
     "name": "stdout",
     "output_type": "stream",
     "text": [
      "DistilBERT latency=0.2464\n"
     ]
    },
    {
     "name": "stderr",
     "output_type": "stream",
     "text": [
      "\n"
     ]
    }
   ],
   "source": [
    "input_ids = np.random.randint(0, len(tokenizer_distilbert), (1, 512))\n",
    "attention_mask = np.ones_like(input_ids)\n",
    "input_ids = torch.from_numpy(input_ids)\n",
    "attention_mask = torch.from_numpy(attention_mask)\n",
    "\n",
    "inputs = {\n",
    "    'input_ids': input_ids,\n",
    "    'attention_mask': attention_mask,\n",
    "}\n",
    "\n",
    "latency_distilbert = get_latency(distilbert, inputs)\n",
    "print(f'DistilBERT latency={latency_distilbert:.4f}')"
   ]
  },
  {
   "cell_type": "markdown",
   "id": "efe33d64",
   "metadata": {},
   "source": [
    "DistilBERT 가 BERT 에 비해 약 2배 더 빠르다"
   ]
  },
  {
   "cell_type": "code",
   "execution_count": null,
   "id": "4ca1814f",
   "metadata": {},
   "outputs": [],
   "source": []
  }
 ],
 "metadata": {
  "kernelspec": {
   "display_name": "Python 3 (ipykernel)",
   "language": "python",
   "name": "python3"
  },
  "language_info": {
   "codemirror_mode": {
    "name": "ipython",
    "version": 3
   },
   "file_extension": ".py",
   "mimetype": "text/x-python",
   "name": "python",
   "nbconvert_exporter": "python",
   "pygments_lexer": "ipython3",
   "version": "3.8.10"
  }
 },
 "nbformat": 4,
 "nbformat_minor": 5
}
